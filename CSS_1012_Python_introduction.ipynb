{
  "nbformat": 4,
  "nbformat_minor": 0,
  "metadata": {
    "colab": {
      "name": "CSS-1012 Python introduction.ipynb",
      "provenance": []
    },
    "kernelspec": {
      "name": "python3",
      "display_name": "Python 3"
    },
    "language_info": {
      "name": "python"
    }
  },
  "cells": [
    {
      "cell_type": "markdown",
      "source": [
        "Jeff Rameau, Damani Chietan, Daniel Simpson"
      ],
      "metadata": {
        "id": "I15Gxkpd2gc8"
      }
    },
    {
      "cell_type": "markdown",
      "source": [
        "Hello World\n"
      ],
      "metadata": {
        "id": "x6jddjioGuQe"
      }
    },
    {
      "cell_type": "code",
      "execution_count": null,
      "metadata": {
        "id": "2XOZE_0mBZPr"
      },
      "outputs": [],
      "source": [
        "print(\"This line will be printed.\")"
      ]
    },
    {
      "cell_type": "code",
      "source": [
        "x = 1\n",
        "if x == 1:\n",
        "  #indented four spaces\n",
        "  print(\"x is 1.\")"
      ],
      "metadata": {
        "colab": {
          "base_uri": "https://localhost:8080/"
        },
        "id": "aLPHUQeDDgh1",
        "outputId": "525b555b-24dc-4b0d-e801-6bdbfe01a085"
      },
      "execution_count": null,
      "outputs": [
        {
          "output_type": "stream",
          "name": "stdout",
          "text": [
            "x is 1.\n"
          ]
        }
      ]
    },
    {
      "cell_type": "code",
      "source": [
        "print(\"Goodbye, World!\")"
      ],
      "metadata": {
        "colab": {
          "base_uri": "https://localhost:8080/"
        },
        "id": "Zmsq1a_lD3BL",
        "outputId": "4f99c38d-52a4-4d28-c68a-dfa8ca19ab12"
      },
      "execution_count": null,
      "outputs": [
        {
          "output_type": "stream",
          "name": "stdout",
          "text": [
            "Goodbye, World!\n"
          ]
        }
      ]
    },
    {
      "cell_type": "markdown",
      "source": [
        "Variables and Types"
      ],
      "metadata": {
        "id": "49huA8pJG2wV"
      }
    },
    {
      "cell_type": "code",
      "source": [
        "myint = 7\n",
        "print(myint)"
      ],
      "metadata": {
        "colab": {
          "base_uri": "https://localhost:8080/"
        },
        "id": "mSvTxE7JHGU4",
        "outputId": "c12144da-c6dd-443f-9519-511ca1bc3f92"
      },
      "execution_count": null,
      "outputs": [
        {
          "output_type": "stream",
          "name": "stdout",
          "text": [
            "7\n"
          ]
        }
      ]
    },
    {
      "cell_type": "code",
      "source": [
        "myfloat = 7.0\n",
        "print(myfloat)\n",
        "myfloat = float(7)\n",
        "print(myfloat)"
      ],
      "metadata": {
        "colab": {
          "base_uri": "https://localhost:8080/"
        },
        "id": "NAq1wR_gHP_y",
        "outputId": "1902a0ce-4ac1-44cc-9a7a-6e7ef74f8364"
      },
      "execution_count": null,
      "outputs": [
        {
          "output_type": "stream",
          "name": "stdout",
          "text": [
            "7.0\n",
            "7.0\n"
          ]
        }
      ]
    },
    {
      "cell_type": "code",
      "source": [
        "mystring = 'hello'\n",
        "print(mystring)\n",
        "mystring = \"hello\"\n",
        "print(mystring)"
      ],
      "metadata": {
        "colab": {
          "base_uri": "https://localhost:8080/"
        },
        "id": "NrA9EGvkLysv",
        "outputId": "711c113e-acf8-4dd0-b9ed-09f1fc1e5f67"
      },
      "execution_count": null,
      "outputs": [
        {
          "output_type": "stream",
          "name": "stdout",
          "text": [
            "hello\n",
            "hello\n"
          ]
        }
      ]
    },
    {
      "cell_type": "code",
      "source": [
        "mystring = \"Don't worry about apostrophes\"\n",
        "print(mystring)"
      ],
      "metadata": {
        "colab": {
          "base_uri": "https://localhost:8080/"
        },
        "id": "0vB8prA0NMpX",
        "outputId": "31ef45e6-d0ab-4976-aae9-6ba45a1836a7"
      },
      "execution_count": null,
      "outputs": [
        {
          "output_type": "stream",
          "name": "stdout",
          "text": [
            "Don't worry about apostrophes\n"
          ]
        }
      ]
    },
    {
      "cell_type": "code",
      "source": [
        "one = 1\n",
        "two = 2\n",
        "three = one + two\n",
        "print(three)\n",
        "\n",
        "hello = \"hello\"\n",
        "world = \"world\"\n",
        "helloworld = hello + \" \" + world\n",
        "print(helloworld)"
      ],
      "metadata": {
        "colab": {
          "base_uri": "https://localhost:8080/"
        },
        "id": "1sDAclS2NObA",
        "outputId": "c2674d57-411c-4930-a14a-62ae2bfb191e"
      },
      "execution_count": null,
      "outputs": [
        {
          "output_type": "stream",
          "name": "stdout",
          "text": [
            "3\n",
            "hello world\n"
          ]
        }
      ]
    },
    {
      "cell_type": "code",
      "source": [
        "a, b = 3, 4\n",
        "print(a, b)"
      ],
      "metadata": {
        "colab": {
          "base_uri": "https://localhost:8080/"
        },
        "id": "qReTr0xBKKf9",
        "outputId": "4029a96f-bccb-43a0-def1-da3b968ea696"
      },
      "execution_count": null,
      "outputs": [
        {
          "output_type": "stream",
          "name": "stdout",
          "text": [
            "3 4\n"
          ]
        }
      ]
    },
    {
      "cell_type": "code",
      "source": [
        "# This will not work\n",
        "one = 1\n",
        "two = 2\n",
        "hello = \"hello\"\n",
        "print(one + two + hello)"
      ],
      "metadata": {
        "colab": {
          "base_uri": "https://localhost:8080/",
          "height": 204
        },
        "id": "H3XL9bZFKkPr",
        "outputId": "b85deebf-ccf8-40eb-cb88-b9079bfc99e9"
      },
      "execution_count": null,
      "outputs": [
        {
          "output_type": "error",
          "ename": "TypeError",
          "evalue": "ignored",
          "traceback": [
            "\u001b[0;31m---------------------------------------------------------------------------\u001b[0m",
            "\u001b[0;31mTypeError\u001b[0m                                 Traceback (most recent call last)",
            "\u001b[0;32m<ipython-input-5-8e29fefeca69>\u001b[0m in \u001b[0;36m<module>\u001b[0;34m()\u001b[0m\n\u001b[1;32m      3\u001b[0m \u001b[0mtwo\u001b[0m \u001b[0;34m=\u001b[0m \u001b[0;36m2\u001b[0m\u001b[0;34m\u001b[0m\u001b[0;34m\u001b[0m\u001b[0m\n\u001b[1;32m      4\u001b[0m \u001b[0mhello\u001b[0m \u001b[0;34m=\u001b[0m \u001b[0;34m\"hello\"\u001b[0m\u001b[0;34m\u001b[0m\u001b[0;34m\u001b[0m\u001b[0m\n\u001b[0;32m----> 5\u001b[0;31m \u001b[0mprint\u001b[0m\u001b[0;34m(\u001b[0m\u001b[0mone\u001b[0m \u001b[0;34m+\u001b[0m \u001b[0mtwo\u001b[0m \u001b[0;34m+\u001b[0m \u001b[0mhello\u001b[0m\u001b[0;34m)\u001b[0m\u001b[0;34m\u001b[0m\u001b[0;34m\u001b[0m\u001b[0m\n\u001b[0m",
            "\u001b[0;31mTypeError\u001b[0m: unsupported operand type(s) for +: 'int' and 'str'"
          ]
        }
      ]
    },
    {
      "cell_type": "code",
      "source": [
        "mystring = \"hello\"\n",
        "myfloat = 10.0\n",
        "myint = 20\n",
        "\n",
        "# testing code\n",
        "if mystring == \"hello\":\n",
        "    print(\"String: %s\" % mystring)\n",
        "if isinstance(myfloat, float) and myfloat == 10.0:\n",
        "    print(\"Float: %f\" % myfloat)\n",
        "if isinstance(myint, int) and myint == 20:\n",
        "    print(\"Integer: %d\" % myint)"
      ],
      "metadata": {
        "colab": {
          "base_uri": "https://localhost:8080/"
        },
        "id": "z-9fT4gDLOz6",
        "outputId": "5dbffdd3-c359-4553-84e8-ecd977a91f3d"
      },
      "execution_count": null,
      "outputs": [
        {
          "output_type": "stream",
          "name": "stdout",
          "text": [
            "String: hello\n",
            "Float: 10.000000\n",
            "Integer: 20\n"
          ]
        }
      ]
    },
    {
      "cell_type": "markdown",
      "source": [
        "Lists\n"
      ],
      "metadata": {
        "id": "06QV47tiMrfA"
      }
    },
    {
      "cell_type": "code",
      "source": [
        "myList = []\n",
        "myList.append(1)\n",
        "myList.append(2)\n",
        "myList.append(3)\n",
        "print(myList[0]) #prints 1\n",
        "print(myList[1]) #prints 2\n",
        "print(myList[2]) #prints 3\n",
        "\n",
        "# prints out 1, 2, 3\n",
        "for x in myList:\n",
        "  print(x)"
      ],
      "metadata": {
        "colab": {
          "base_uri": "https://localhost:8080/"
        },
        "id": "n1nmau5mMyHu",
        "outputId": "2a92d43e-b96a-4d3c-ca4e-cec47ca978bf"
      },
      "execution_count": null,
      "outputs": [
        {
          "output_type": "stream",
          "name": "stdout",
          "text": [
            "1\n",
            "2\n",
            "3\n",
            "1\n",
            "2\n",
            "3\n"
          ]
        }
      ]
    },
    {
      "cell_type": "code",
      "source": [
        "mylist = [1,2,3]\n",
        "print(mylist[10])\n",
        "#index 10 does not exist in the list, only goes from index 0-2"
      ],
      "metadata": {
        "colab": {
          "base_uri": "https://localhost:8080/",
          "height": 186
        },
        "id": "8rf1zmixcDqi",
        "outputId": "ab1bde57-eea4-47f7-fa1f-a73f479b68ea"
      },
      "execution_count": null,
      "outputs": [
        {
          "output_type": "error",
          "ename": "IndexError",
          "evalue": "ignored",
          "traceback": [
            "\u001b[0;31m---------------------------------------------------------------------------\u001b[0m",
            "\u001b[0;31mIndexError\u001b[0m                                Traceback (most recent call last)",
            "\u001b[0;32m<ipython-input-10-ac9eeac6db06>\u001b[0m in \u001b[0;36m<module>\u001b[0;34m()\u001b[0m\n\u001b[1;32m      1\u001b[0m \u001b[0mmylist\u001b[0m \u001b[0;34m=\u001b[0m \u001b[0;34m[\u001b[0m\u001b[0;36m1\u001b[0m\u001b[0;34m,\u001b[0m\u001b[0;36m2\u001b[0m\u001b[0;34m,\u001b[0m\u001b[0;36m3\u001b[0m\u001b[0;34m]\u001b[0m\u001b[0;34m\u001b[0m\u001b[0;34m\u001b[0m\u001b[0m\n\u001b[0;32m----> 2\u001b[0;31m \u001b[0mprint\u001b[0m\u001b[0;34m(\u001b[0m\u001b[0mmylist\u001b[0m\u001b[0;34m[\u001b[0m\u001b[0;36m10\u001b[0m\u001b[0;34m]\u001b[0m\u001b[0;34m)\u001b[0m\u001b[0;34m\u001b[0m\u001b[0;34m\u001b[0m\u001b[0m\n\u001b[0m",
            "\u001b[0;31mIndexError\u001b[0m: list index out of range"
          ]
        }
      ]
    },
    {
      "cell_type": "code",
      "source": [
        "numbers = []\n",
        "strings = []\n",
        "names = [\"John\", \"Eric\", \"Jessica\"]\n",
        "\n",
        "# write your code here\n",
        "numbers.append(1)\n",
        "numbers.append(2)\n",
        "numbers.append(3)\n",
        "\n",
        "strings.append(\"hello\")\n",
        "strings.append(\"world\")\n",
        "\n",
        "second_name = names[1]\n",
        "\n",
        "# this code should write out the filled arrays and the second name in the names list (Eric).\n",
        "print(numbers)\n",
        "print(strings)\n",
        "print(\"The second name on the names list is %s\" % second_name)"
      ],
      "metadata": {
        "colab": {
          "base_uri": "https://localhost:8080/"
        },
        "id": "MjyVC_v1cMFL",
        "outputId": "b3e306fa-9fbe-4288-88fc-43bfd34c2307"
      },
      "execution_count": null,
      "outputs": [
        {
          "output_type": "stream",
          "name": "stdout",
          "text": [
            "[1, 2, 3]\n",
            "['hello', 'world']\n",
            "The second name on the names list is Eric\n"
          ]
        }
      ]
    },
    {
      "cell_type": "markdown",
      "source": [
        "Basic Operators "
      ],
      "metadata": {
        "id": "0rriDpFfdh-Z"
      }
    },
    {
      "cell_type": "code",
      "source": [
        "number = 1 + 2 * 3 / 4.0\n",
        "print(number)"
      ],
      "metadata": {
        "colab": {
          "base_uri": "https://localhost:8080/"
        },
        "id": "KoaSlcoZdkA2",
        "outputId": "5c2078c5-6341-4175-e569-b639e75bda6c"
      },
      "execution_count": null,
      "outputs": [
        {
          "output_type": "stream",
          "name": "stdout",
          "text": [
            "2.5\n"
          ]
        }
      ]
    },
    {
      "cell_type": "code",
      "source": [
        "remainder = 11 % 3\n",
        "print(remainder)"
      ],
      "metadata": {
        "colab": {
          "base_uri": "https://localhost:8080/"
        },
        "id": "7mFHURymdrIm",
        "outputId": "f40a820c-0890-4024-b9eb-1a860963e0e8"
      },
      "execution_count": null,
      "outputs": [
        {
          "output_type": "stream",
          "name": "stdout",
          "text": [
            "2\n"
          ]
        }
      ]
    },
    {
      "cell_type": "code",
      "source": [
        "squared = 7 ** 2\n",
        "cubed = 2 ** 6\n",
        "print(squared)\n",
        "print(cubed)"
      ],
      "metadata": {
        "colab": {
          "base_uri": "https://localhost:8080/"
        },
        "id": "AbM8ow6feNE2",
        "outputId": "6495587f-2103-406e-ece5-cf14caa889f8"
      },
      "execution_count": null,
      "outputs": [
        {
          "output_type": "stream",
          "name": "stdout",
          "text": [
            "49\n",
            "64\n"
          ]
        }
      ]
    },
    {
      "cell_type": "code",
      "source": [
        "helloworld = \"hello\" + \" \" + \"world\"\n",
        "print(helloworld)"
      ],
      "metadata": {
        "colab": {
          "base_uri": "https://localhost:8080/"
        },
        "id": "5yBfPBUUehiL",
        "outputId": "c48e327c-8d95-45d9-cb91-67caa4f47fc1"
      },
      "execution_count": null,
      "outputs": [
        {
          "output_type": "stream",
          "name": "stdout",
          "text": [
            "hello world\n"
          ]
        }
      ]
    },
    {
      "cell_type": "code",
      "source": [
        "lotsofhellos = \"hello\" * 10\n",
        "print(lotsofhellos)"
      ],
      "metadata": {
        "colab": {
          "base_uri": "https://localhost:8080/"
        },
        "id": "6G544tdgemkb",
        "outputId": "00e4cbe3-4a4d-4af0-eddd-c73e322e1479"
      },
      "execution_count": null,
      "outputs": [
        {
          "output_type": "stream",
          "name": "stdout",
          "text": [
            "hellohellohellohellohellohellohellohellohellohello\n"
          ]
        }
      ]
    },
    {
      "cell_type": "code",
      "source": [
        "even_numbers = [2,4,6,8]\n",
        "odd_numbers = [1,3,5,7]\n",
        "all_numbers = even_numbers + odd_numbers\n",
        "print(all_numbers)"
      ],
      "metadata": {
        "colab": {
          "base_uri": "https://localhost:8080/"
        },
        "id": "zjNBXD9OfMY3",
        "outputId": "f6ac3558-23ae-4ed8-869b-92cd7d957f59"
      },
      "execution_count": null,
      "outputs": [
        {
          "output_type": "stream",
          "name": "stdout",
          "text": [
            "[2, 4, 6, 8, 1, 3, 5, 7]\n"
          ]
        }
      ]
    },
    {
      "cell_type": "code",
      "source": [
        "print([1,2,3] * 3)"
      ],
      "metadata": {
        "colab": {
          "base_uri": "https://localhost:8080/"
        },
        "id": "7Y60boprfVDo",
        "outputId": "87e79265-bcc9-4344-b375-0be081e62125"
      },
      "execution_count": null,
      "outputs": [
        {
          "output_type": "stream",
          "name": "stdout",
          "text": [
            "[1, 2, 3, 1, 2, 3, 1, 2, 3]\n"
          ]
        }
      ]
    },
    {
      "cell_type": "code",
      "source": [
        "x = object()\n",
        "y = object()\n",
        "\n",
        "# TODO: change this code\n",
        "x_list = [x] * 10\n",
        "y_list = [y] * 10\n",
        "big_list = x_list + y_list\n",
        "\n",
        "print(\"x_list contains %d objects\" % len(x_list))\n",
        "print(\"y_list contains %d objects\" % len(y_list))\n",
        "print(\"big_list contains %d objects\" % len(big_list))\n",
        "\n",
        "# testing code\n",
        "if x_list.count(x) == 10 and y_list.count(y) == 10:\n",
        "    print(\"Almost there...\")\n",
        "if big_list.count(x) == 10 and big_list.count(y) == 10:\n",
        "    print(\"Great!\")"
      ],
      "metadata": {
        "colab": {
          "base_uri": "https://localhost:8080/"
        },
        "id": "VTGiEgJsfapl",
        "outputId": "4be3e1ff-6db4-4628-b3e9-bcf1ccca1fb0"
      },
      "execution_count": null,
      "outputs": [
        {
          "output_type": "stream",
          "name": "stdout",
          "text": [
            "x_list contains 10 objects\n",
            "y_list contains 10 objects\n",
            "big_list contains 20 objects\n",
            "Almost there...\n",
            "Great!\n"
          ]
        }
      ]
    },
    {
      "cell_type": "markdown",
      "source": [
        "String Formatting"
      ],
      "metadata": {
        "id": "TKlrqW3QlAxG"
      }
    },
    {
      "cell_type": "code",
      "source": [
        "# This prints out \"Hello, John!\"\n",
        "name = \"John\"\n",
        "print(\"Hello, %s!\" % name)"
      ],
      "metadata": {
        "colab": {
          "base_uri": "https://localhost:8080/"
        },
        "id": "EL1Q8OhglwR6",
        "outputId": "f76e0d67-573c-4a31-8704-767e388bbe9e"
      },
      "execution_count": null,
      "outputs": [
        {
          "output_type": "stream",
          "name": "stdout",
          "text": [
            "Hello, John!\n"
          ]
        }
      ]
    },
    {
      "cell_type": "code",
      "source": [
        "# This prints out \"John is 23 years old.\"\n",
        "name = \"John\"\n",
        "age = 23\n",
        "print(\"%s is %d years old.\" % (name, age))"
      ],
      "metadata": {
        "id": "-LggfGNPl0xf"
      },
      "execution_count": null,
      "outputs": []
    },
    {
      "cell_type": "code",
      "source": [
        "# This prints out: A list: [1, 2, 3]\n",
        "mylist = [1,2,3]\n",
        "print(\"A list: %s\" % mylist)"
      ],
      "metadata": {
        "id": "3dmaTMZanM0U"
      },
      "execution_count": null,
      "outputs": []
    },
    {
      "cell_type": "code",
      "source": [
        "data = (\"John\", \"Doe\", 53.44)\n",
        "format_string = \"Hello %s %s. Your current balance is $%s.\"\n",
        "\n",
        "print(format_string % data)"
      ],
      "metadata": {
        "colab": {
          "base_uri": "https://localhost:8080/"
        },
        "id": "gmrWDEk3nOh5",
        "outputId": "0ff0c99a-1f0f-455a-f81f-5062bcd68d32"
      },
      "execution_count": null,
      "outputs": [
        {
          "output_type": "stream",
          "name": "stdout",
          "text": [
            "Hello John Doe. Your current balance is $53.44.\n"
          ]
        }
      ]
    },
    {
      "cell_type": "markdown",
      "source": [
        "Basic String Operations "
      ],
      "metadata": {
        "id": "O7SC0m5xx-8l"
      }
    },
    {
      "cell_type": "code",
      "source": [
        "astring = \"Hello world!\"\n",
        "astring2 = 'Hello world!'"
      ],
      "metadata": {
        "id": "lIvbjUZ_ucsr"
      },
      "execution_count": null,
      "outputs": []
    },
    {
      "cell_type": "code",
      "source": [
        "astring = \"Hello world!\"\n",
        "print(\"single quotes are ' '\")\n",
        "\n",
        "print(len(astring))\n",
        "#The len operator prints the length of the string"
      ],
      "metadata": {
        "id": "07jmISRwuq2n",
        "outputId": "4ce3c471-f69e-4ec8-aaab-b0df5cd18d49",
        "colab": {
          "base_uri": "https://localhost:8080/"
        }
      },
      "execution_count": null,
      "outputs": [
        {
          "output_type": "stream",
          "name": "stdout",
          "text": [
            "single quotes are ' '\n",
            "12\n"
          ]
        }
      ]
    },
    {
      "cell_type": "code",
      "source": [
        "a = \"I love Cyber Security\"\n",
        "print(a.index(\"C\"))\n",
        "#This prints the postion of the \"C\" character in the string\n",
        "\n",
        "print(a.count(\"e\"))\n",
        "#This prints the amount of e's we have in our string"
      ],
      "metadata": {
        "colab": {
          "base_uri": "https://localhost:8080/"
        },
        "id": "nJWfXKuA4HNi",
        "outputId": "8f7cc2e3-1d55-44e5-bd63-bf24bc0650d4"
      },
      "execution_count": null,
      "outputs": [
        {
          "output_type": "stream",
          "name": "stdout",
          "text": [
            "7\n",
            "3\n"
          ]
        }
      ]
    },
    {
      "cell_type": "code",
      "source": [
        "a = \"I hate my job\"\n",
        "print(a[3:7])\n",
        "#This prints the string starting from position 3 and ending at position 7\n",
        "\n",
        "print(a[3:7:2])\n",
        "#This prints the string starting at postion 3 and ending at position 7 but 2 postions are skipped\n",
        "#[start:stop:step]\n",
        "\n",
        "print(a[3:7:1])\n",
        "#This prints out the same result as a[3:7]\n"
      ],
      "metadata": {
        "colab": {
          "base_uri": "https://localhost:8080/"
        },
        "id": "nkcRU9i_5hka",
        "outputId": "fe957a3e-e2c9-41ce-db8b-dcb9ff149c14"
      },
      "execution_count": null,
      "outputs": [
        {
          "output_type": "stream",
          "name": "stdout",
          "text": [
            "ate \n",
            "ae\n",
            "ate \n"
          ]
        }
      ]
    },
    {
      "cell_type": "code",
      "source": [
        "a = \"Orange juice is better than cranberry juice\"\n",
        "print(a[::-1])\n",
        "#This print statement prints the code in an inverted format"
      ],
      "metadata": {
        "colab": {
          "base_uri": "https://localhost:8080/"
        },
        "id": "uLMx029V72xY",
        "outputId": "9245d83a-3fbb-4198-c739-7d1e74a7f00c"
      },
      "execution_count": null,
      "outputs": [
        {
          "output_type": "stream",
          "name": "stdout",
          "text": [
            "eciuj yrrebnarc naht retteb si eciuj egnarO\n"
          ]
        }
      ]
    },
    {
      "cell_type": "code",
      "source": [
        "a = \"kevin durant is the best player in the world\"\n",
        "print(a.upper())\n",
        "print(a.lower())\n",
        "#These are the operators that convert a string to all lowercase/uppercase"
      ],
      "metadata": {
        "colab": {
          "base_uri": "https://localhost:8080/"
        },
        "id": "_sqwDsRN8YxT",
        "outputId": "bf508e24-d1d2-44f1-be98-6f02f12a639e"
      },
      "execution_count": null,
      "outputs": [
        {
          "output_type": "stream",
          "name": "stdout",
          "text": [
            "KEVIN DURANT IS THE BEST PLAYER IN THE WORLD\n",
            "kevin durant is the best player in the world\n"
          ]
        }
      ]
    },
    {
      "cell_type": "code",
      "source": [
        "a = \"dogs are the best pets\"\n",
        "print(a.startswith(\"dogs\"))\n",
        "print(a.startswith(\"cats\"))\n",
        "#This command provides a boleen result which is based on if the string starts with the entered string"
      ],
      "metadata": {
        "colab": {
          "base_uri": "https://localhost:8080/"
        },
        "id": "g9GuLm3A9CDl",
        "outputId": "baf4d60f-6b0d-4f3b-8f40-a50eedd76d2a"
      },
      "execution_count": null,
      "outputs": [
        {
          "output_type": "stream",
          "name": "stdout",
          "text": [
            "True\n",
            "False\n"
          ]
        }
      ]
    },
    {
      "cell_type": "code",
      "source": [
        "a = \"a hot dog is a sandwich\"\n",
        "b = a.split(\" \")\n",
        "print(b)\n",
        "#The a.split command breaks up the string and turns it into a list"
      ],
      "metadata": {
        "colab": {
          "base_uri": "https://localhost:8080/"
        },
        "id": "QklPkWUs-O_-",
        "outputId": "494aa350-2f11-47c9-db97-6864b49675b0"
      },
      "execution_count": null,
      "outputs": [
        {
          "output_type": "stream",
          "name": "stdout",
          "text": [
            "['a', 'hot', 'dog', 'is', 'a', 'sandwich']\n"
          ]
        }
      ]
    },
    {
      "cell_type": "markdown",
      "source": [
        "Conditions"
      ],
      "metadata": {
        "id": "dPOS1zMkAiPp"
      }
    },
    {
      "cell_type": "code",
      "source": [
        "name = Damani\n",
        "age = 22\n",
        "\n",
        "if name == \"Damani\" and age == 22:\n",
        "  print(\"Your name is Damani. You are 22 years old\")\n",
        "\n",
        "if name == \"Damani\" or name == \"Jeff\":\n",
        "  print(\"Your name is Damani or Jeff\")\n",
        "\n",
        "#The \"and\" and \"or\" boolean operators allow building complex boolean expressions"
      ],
      "metadata": {
        "id": "rSBgfxwwB-V7"
      },
      "execution_count": null,
      "outputs": []
    },
    {
      "cell_type": "code",
      "source": [
        "a = [\"Damani\", \"Daniel\", \"Jeff\", \"John\", \"Mike\", \"Chris\", \"Nancy\"]\n",
        "if \"Damani\" in a:\n",
        "  print(\"Your name is Damani\")\n",
        "\n",
        "#The \"in\" operator could be used to check if a specified object exists within an iterable object container, such as a list:"
      ],
      "metadata": {
        "colab": {
          "base_uri": "https://localhost:8080/"
        },
        "id": "RdzM9VaOAmYG",
        "outputId": "8938f986-bd3b-437b-b780-259054030b0a"
      },
      "execution_count": null,
      "outputs": [
        {
          "output_type": "stream",
          "name": "stdout",
          "text": [
            "Your name is Damani\n"
          ]
        }
      ]
    },
    {
      "cell_type": "code",
      "source": [
        "x = 5\n",
        "y = 10\n",
        "\n",
        "if y < x:\n",
        "  print(\"y is less than x\")\n",
        "elif y > x:\n",
        "  print(\"y is greater than x\")\n",
        "else:\n",
        "  print(\"y is equal to x\")\n",
        "\n",
        "#Python uses indentation to define code blocks, instead of brackets. This is an example of that"
      ],
      "metadata": {
        "colab": {
          "base_uri": "https://localhost:8080/"
        },
        "id": "BBEmaRX6EN_3",
        "outputId": "551fee98-f15e-4b2b-88ed-4b217db1d9c3"
      },
      "execution_count": null,
      "outputs": [
        {
          "output_type": "stream",
          "name": "stdout",
          "text": [
            "y is greater than x\n"
          ]
        }
      ]
    },
    {
      "cell_type": "code",
      "source": [
        "a = [2, 4, 6]\n",
        "b = [2, 4, 6]\n",
        "print(a==b)\n",
        "print(a is b)\n",
        "#Unlike the double equals operator \"==\", the \"is\" operator does not match the values of the variables, but the instances themselves"
      ],
      "metadata": {
        "colab": {
          "base_uri": "https://localhost:8080/"
        },
        "id": "0pm-gTL8E5rf",
        "outputId": "6bb42516-ea4e-425a-b90b-36363caf3c75"
      },
      "execution_count": null,
      "outputs": [
        {
          "output_type": "stream",
          "name": "stdout",
          "text": [
            "True\n",
            "False\n"
          ]
        }
      ]
    },
    {
      "cell_type": "code",
      "source": [
        "x = True\n",
        "y = False\n",
        "print(not x)\n",
        "print(not y)\n",
        "#Using \"not\" before a boolean expression inverts it"
      ],
      "metadata": {
        "colab": {
          "base_uri": "https://localhost:8080/"
        },
        "id": "ygBHdFnkIUPO",
        "outputId": "ede82441-04c5-4527-d052-cedc7831860d"
      },
      "execution_count": null,
      "outputs": [
        {
          "output_type": "stream",
          "name": "stdout",
          "text": [
            "False\n",
            "True\n"
          ]
        }
      ]
    },
    {
      "cell_type": "markdown",
      "source": [
        "Loops"
      ],
      "metadata": {
        "id": "vwnqzfR-I6wf"
      }
    },
    {
      "cell_type": "code",
      "source": [
        "#prints even numbers from 0 to 10\n",
        "for x in range(0,10,2):\n",
        "  print(x)\n",
        "\n",
        "#For loops iterate over a given sequence."
      ],
      "metadata": {
        "colab": {
          "base_uri": "https://localhost:8080/"
        },
        "id": "0DmTEcRkI8Xk",
        "outputId": "464284b7-e1a1-405c-ee3b-73dd5a4fd004"
      },
      "execution_count": null,
      "outputs": [
        {
          "output_type": "stream",
          "name": "stdout",
          "text": [
            "0\n",
            "2\n",
            "4\n",
            "6\n",
            "8\n"
          ]
        }
      ]
    },
    {
      "cell_type": "code",
      "source": [
        "x = 0 \n",
        "while x < 5:\n",
        "  print(x)\n",
        "  x+=1\n",
        "\n",
        "  #While loops repeat as long as a certain boolean condition is met."
      ],
      "metadata": {
        "colab": {
          "base_uri": "https://localhost:8080/"
        },
        "id": "Yfyk6iE9JdG-",
        "outputId": "2666bfa2-5cb5-45e3-8c09-dc3ca4e4a7e4"
      },
      "execution_count": null,
      "outputs": [
        {
          "output_type": "stream",
          "name": "stdout",
          "text": [
            "0\n",
            "1\n",
            "2\n",
            "3\n",
            "4\n"
          ]
        }
      ]
    },
    {
      "cell_type": "code",
      "source": [
        "x = 0\n",
        "while True:\n",
        "  print(x)\n",
        "  x += 1\n",
        "  if x >= 10:\n",
        "    break\n",
        "\n",
        "#prints even number with a range of [0,10]\n",
        "for y in range(10):\n",
        "  if y % 2 == 1:\n",
        "    continue\n",
        "  print(y)\n",
        "\n",
        "#break is used to exit a for loop or a while loop, whereas continue is used to skip the current block, and return to the \"for\" or \"while\" statement."
      ],
      "metadata": {
        "colab": {
          "base_uri": "https://localhost:8080/"
        },
        "id": "Xnsz05t8LOz9",
        "outputId": "53103450-1b99-43b2-a187-257114d29fbc"
      },
      "execution_count": null,
      "outputs": [
        {
          "output_type": "stream",
          "name": "stdout",
          "text": [
            "0\n",
            "1\n",
            "2\n",
            "3\n",
            "4\n",
            "5\n",
            "6\n",
            "7\n",
            "8\n",
            "9\n",
            "0\n",
            "2\n",
            "4\n",
            "6\n",
            "8\n"
          ]
        }
      ]
    },
    {
      "cell_type": "markdown",
      "source": [
        ""
      ],
      "metadata": {
        "id": "XPOX63WgPqTS"
      }
    },
    {
      "cell_type": "code",
      "source": [
        "x = 0\n",
        "while (x < 6):\n",
        "  print(x)\n",
        "  x+=1\n",
        "else:\n",
        "  print(\"x value is reached %d\" %(x))\n",
        "\n",
        "#When the loop condition of \"for\" or \"while\" statement fails then code part in \"else\" is executed.\n",
        "\n",
        "for y in range(0, 10):\n",
        "  if(y >= 5):\n",
        "    break\n",
        "  print(y)\n",
        "else:\n",
        "  print(\"this is not printed because for loop is terminated because of break but not due to fail in condition\")\n",
        "#If a break statement is executed inside the for loop then the \"else\" part is skipped"
      ],
      "metadata": {
        "colab": {
          "base_uri": "https://localhost:8080/"
        },
        "id": "TnuhyFanNSpz",
        "outputId": "c0b674c4-04a9-465f-c7f6-8b4383f6ad90"
      },
      "execution_count": null,
      "outputs": [
        {
          "output_type": "stream",
          "name": "stdout",
          "text": [
            "0\n",
            "1\n",
            "2\n",
            "3\n",
            "4\n",
            "5\n",
            "x value is reached 6\n",
            "0\n",
            "1\n",
            "2\n",
            "3\n",
            "4\n"
          ]
        }
      ]
    },
    {
      "cell_type": "markdown",
      "source": [
        "Functions"
      ],
      "metadata": {
        "id": "WfzcUjSWPvxI"
      }
    },
    {
      "cell_type": "code",
      "source": [
        "#Car dealership\n",
        "def welcome():\n",
        "  print(\"Welcome to our car dealership\")\n",
        "\n",
        "def cars(make, year, miles, price):\n",
        "  print(\"The make: \" + make + \" Year: \" + year + \" miles: \" + miles + \" price: \" + price)\n",
        "\n",
        "welcome()\n",
        "cars(\"Toyota\", \"2020\", \"10,000\", \"35,000\")\n",
        "cars(\"Nisan\", \"2018\", \"30,000\", \"20,000\")\n",
        "cars(\"Jeep\", \"2021\", \"5,000\", \"35,000\")\n",
        "\n",
        "#Simply write the function's name followed by (), placing any required arguments within the brackets"
      ],
      "metadata": {
        "colab": {
          "base_uri": "https://localhost:8080/"
        },
        "id": "mBaGpkILP7vf",
        "outputId": "87690867-58d9-47d6-d6bb-7939ef1553e9"
      },
      "execution_count": null,
      "outputs": [
        {
          "output_type": "stream",
          "name": "stdout",
          "text": [
            "Welcome to our car dealership\n",
            "The make: Toyota Year: 2020 miles: 10,000 price: 35,000\n",
            "The make: Nisan Year: 2018 miles: 30,000 price: 20,000\n",
            "The make: Jeep Year: 2021 miles: 5,000 price: 35,000\n"
          ]
        }
      ]
    },
    {
      "cell_type": "markdown",
      "source": [
        "\n",
        "Classes and Objects"
      ],
      "metadata": {
        "id": "QVjdyeEhWP7m"
      }
    },
    {
      "cell_type": "code",
      "source": [
        "#Objects are an encapsulation of variables and functions into a single entity.\n",
        "#Objects get their variables and functions from classes. \n",
        "\n",
        "class css1012:\n",
        "  variable = \"Python is fun\"\n",
        "\n",
        "  def sju(self):\n",
        "    print(\"Network Perimeter Security Class is fun\")\n",
        "\n",
        "team7 = css1012()\n",
        "\n",
        "team7.variable\n",
        "\n",
        "#To access the variable inside of the newly created object \"myobjectx\" you would take the steps above\n",
        "\n",
        "team8 = css1012()\n",
        "team8.variable = \"I like to code\"\n",
        "\n",
        "print(team7.variable)\n",
        "print(team8.variable)\n",
        "\n",
        "\n",
        "\n",
        "#You can create multiple different objects that are of the same class\n",
        "#However, each object contains independent copies of the variables defined in the class.\n",
        "#if we were to define another object with the \"css1012\" class and then change the string in the variable above\n",
        "\n",
        "\n",
        "\n",
        "#To access a function inside of an object you use notation similar to accessing a variable:\n",
        "team7.sju()\n",
        "\n"
      ],
      "metadata": {
        "id": "cvn3voT5WTCK",
        "colab": {
          "base_uri": "https://localhost:8080/"
        },
        "outputId": "05798a31-3c5e-4044-8541-89aa2e50613d"
      },
      "execution_count": 3,
      "outputs": [
        {
          "output_type": "stream",
          "name": "stdout",
          "text": [
            "Python is fun\n",
            "I like to code\n",
            "Network Perimeter Security Class is fun\n"
          ]
        }
      ]
    },
    {
      "cell_type": "code",
      "source": [
        "class sjustudents:\n",
        "  def __init__(self, xnumber):\n",
        "    self.xnumber = \"X03513120\"\n",
        "\n",
        "xnum = sjustudents\n",
        "\n",
        "print(xnum)\n",
        "\n",
        "#The __init__() function, is a special function that is called when the class is being initiated. It's used for asigning values in a class.\n",
        "\n",
        "      "
      ],
      "metadata": {
        "colab": {
          "base_uri": "https://localhost:8080/"
        },
        "id": "t3ry9q3FicaN",
        "outputId": "07302519-d256-4eef-d552-d754a3a97c60"
      },
      "execution_count": 7,
      "outputs": [
        {
          "output_type": "stream",
          "name": "stdout",
          "text": [
            "<class '__main__.sjustudents'>\n"
          ]
        }
      ]
    },
    {
      "cell_type": "markdown",
      "source": [
        "Dictionaries"
      ],
      "metadata": {
        "id": "PdYOSzN9keas"
      }
    },
    {
      "cell_type": "code",
      "source": [
        "#A dictionary is a data type similar to arrays, but works with keys and values instead of indexes.\n",
        "\n",
        "studentid = {}\n",
        "studentid[\"Damani\"] = 123456\n",
        "studentid[\"Jeff\"] = 654321\n",
        "studentid[\"Daniel\"] = 345678\n",
        "\n",
        "print(studentid)\n",
        "\n",
        "#Alternatively, a dictionary can be initialized with the same values in the following notation:\n",
        "studentid2 = {\n",
        "    \n",
        "    \"Kevin\" : 231234,\n",
        "    \"Stephen\" : 564323,\n",
        "    \"Lebron\" :856907\n",
        "\n",
        "\n",
        "\n",
        "}\n",
        "\n",
        "print(studentid2)"
      ],
      "metadata": {
        "colab": {
          "base_uri": "https://localhost:8080/"
        },
        "id": "wm6iGzavkgpw",
        "outputId": "4ca473e3-2eee-4546-e61f-d0f8e093ba26"
      },
      "execution_count": 11,
      "outputs": [
        {
          "output_type": "stream",
          "name": "stdout",
          "text": [
            "{'Damani': 123456, 'Jeff': 654321, 'Daniel': 345678}\n",
            "{'Kevin': 231234, 'Stephen': 564323, 'Lebron': 856907}\n"
          ]
        }
      ]
    },
    {
      "cell_type": "code",
      "source": [
        "#Iterating over dictionaries\n",
        "studentid = {}\n",
        "studentid[\"Damani\"] = 123456\n",
        "studentid[\"Jeff\"] = 654321\n",
        "studentid[\"Daniel\"] = 345678\n",
        "\n",
        "for name, number in studentid.items():\n",
        "  print(\"Student ID number of %s is %d\" % (name, number))\n",
        "\n"
      ],
      "metadata": {
        "colab": {
          "base_uri": "https://localhost:8080/"
        },
        "id": "VNAVjkbVliR4",
        "outputId": "1dfbd1d2-bba4-4d51-d72b-2c4f088c63d7"
      },
      "execution_count": 12,
      "outputs": [
        {
          "output_type": "stream",
          "name": "stdout",
          "text": [
            "Student ID number of Damani is 123456\n",
            "Student ID number of Jeff is 654321\n",
            "Student ID number of Daniel is 345678\n"
          ]
        }
      ]
    },
    {
      "cell_type": "code",
      "source": [
        "#Removing a value\n",
        "studentid = {}\n",
        "studentid[\"Damani\"] = 123456\n",
        "studentid[\"Jeff\"] = 654321\n",
        "studentid[\"Daniel\"] = 345678\n",
        "\n",
        "del studentid[\"Damani\"]\n",
        "print(studentid)\n",
        "\n",
        "#another way to do it\n",
        "\n",
        "studentid.pop(\"Daniel\")\n",
        "print(studentid)"
      ],
      "metadata": {
        "colab": {
          "base_uri": "https://localhost:8080/"
        },
        "id": "QkzN7zXymRXU",
        "outputId": "efae9f5e-02e5-4d8c-c669-aae84c959ea5"
      },
      "execution_count": 14,
      "outputs": [
        {
          "output_type": "stream",
          "name": "stdout",
          "text": [
            "{'Jeff': 654321, 'Daniel': 345678}\n",
            "{'Jeff': 654321}\n"
          ]
        }
      ]
    },
    {
      "cell_type": "markdown",
      "source": [
        "Modules & Packages"
      ],
      "metadata": {
        "id": "BsP8NVfGndxm"
      }
    },
    {
      "cell_type": "code",
      "source": [
        "#we're using an example of a hangman game\n",
        "#words.py\n",
        "\n",
        "wordlist = \"aback\",\"abaft\",\"abandoned\",\"abashed\",\"aberrant\",\"abhorrent\",\"abiding\",\"abject\",\"ablaze\",\"able\",\"abnormal\",\"aboard\",\"aboriginal\",\"abortive\",\"abounding\",\"abrasive\",\"abrupt\",\"absent\",\"absorbed\",\"absorbing\",\"abstracted\",\"absurd\",\"abundant\",\"abusive\",\"accept\",\"acceptable\",\"accessible\",\"accidental\",\"account\",\"accurate\",\"achiever\",\"acid\",\"acidic\",\"acoustic\",\"acoustics\",\"acrid\",\"act\",\"action\",\"activity\",\"actor\",\"actually\",\"ad hoc\",\"adamant\",\"adaptable\",\"add\",\"addicted\",\"addition\",\"adhesive\",\"adjoining\",\"adjustment\",\"admire\",\"admit\",\"adorable\",\"adventurous\",\"advertisement\",\"advice\",\"advise\",\"afford\",\"afraid\",\"aftermath\",\"afternoon\",\"afterthought\",\"aggressive\",\"agonizing\",\"agree\",\"agreeable\",\"agreement\",\"ahead\",\"air\",\"airplane\",\"airport\",\"ajar\",\"alarm\",\"alcoholic\",\"alert\",\"alike\",\"alive\",\"alleged\",\"allow\",\"alluring\",\"aloof\",\"amazing\",\"ambiguous\",\"ambitious\",\"amount\",\"amuck\",\"amuse\",\"amused\",\"amusement\",\"amusing\",\"analyze\",\"ancient\",\"anger\",\"angle\",\"angry\",\"animal\",\"animated\",\"announce\",\"annoy\",\"annoyed\",\"annoying\",\"answer\",\"ants\",\"anxious\",\"apathetic\",\"apologise\",\"apparatus\",\"apparel\",\"appear\",\"applaud\",\"appliance\",\"appreciate\",\"approval\",\"approve\",\"aquatic\",\"arch\",\"argue\",\"argument\",\"arithmetic\",\"arm\",\"army\",\"aromatic\",\"arrange\",\"arrest\",\"arrive\",\"arrogant\",\"art\",\"ashamed\",\"ask\",\"aspiring\",\"assorted\",\"astonishing\",\"attach\",\"attack\",\"attempt\",\"attend\",\"attract\",\"attraction\",\"attractive\",\"aunt\",\"auspicious\",\"authority\",\"automatic\",\"available\",\"average\",\"avoid\",\"awake\",\"aware\",\"awesome\",\"awful\",\"axiomatic\",\"babies\",\"baby\",\"back\",\"bad\",\"badge\",\"bag\",\"bait\",\"bake\",\"balance\",\"ball\",\"ban\",\"bang\",\"barbarous\",\"bare\",\"base\",\"baseball\",\"bashful\",\"basin\",\"basket\",\"basketball\",\"bat\",\"bath\",\"bathe\",\"battle\",\"bawdy\",\"bead\",\"beam\",\"bear\",\"beautiful\",\"bed\",\"bedroom\",\"beds\",\"bee\",\"beef\",\"befitting\",\"beg\",\"beginner\",\"behave\",\"behavior\",\"belief\",\"believe\",\"bell\",\"belligerent\",\"bells\",\"belong\",\"beneficial\",\"bent\",\"berry\",\"berserk\",\"best\",\"better\",\"bewildered\",\"big\",\"bike\",\"bikes\",\"billowy\",\"bird\",\"birds\",\"birth\",\"birthday\",\"bit\",\"bite\",\"bite-sized\",\"bitter\",\"bizarre\",\"black\",\"black-and-white\",\"blade\",\"bleach\",\"bless\",\"blind\",\"blink\",\"blood\",\"bloody\",\"blot\",\"blow\",\"blue\",\"blue-eyed\",\"blush\",\"blushing\",\"board\",\"boast\",\"boat\",\"boil\",\"boiling\",\"bolt\",\"bomb\",\"bone\",\"book\",\"books\",\"boorish\",\"boot\",\"border\",\"bore\",\"bored\",\"boring\",\"borrow\",\"bottle\",\"bounce\",\"bouncy\",\"boundary\",\"boundless\",\"bow\",\"box\",\"boy\",\"brainy\",\"brake\",\"branch\",\"brash\",\"brass\",\"brave\",\"brawny\",\"breakable\",\"breath\",\"breathe\",\"breezy\",\"brick\",\"bridge\",\"brief\",\"bright\",\"broad\",\"broken\",\"brother\",\"brown\",\"bruise\",\"brush\",\"bubble\",\"bucket\",\"building\",\"bulb\",\"bump\",\"bumpy\",\"burly\",\"burn\",\"burst\",\"bury\",\"bushes\",\"business\",\"bustling\",\"busy\",\"butter\",\"button\",\"buzz\",\"cabbage\",\"cable\",\"cactus\",\"cagey\",\"cake\",\"cakes\",\"calculate\",\"calculating\",\"calculator\",\"calendar\",\"call\",\"callous\",\"calm\",\"camera\",\"camp\",\"can\",\"cannon\",\"canvas\",\"cap\",\"capable\",\"capricious\",\"caption\",\"car\",\"card\",\"care\",\"careful\",\"careless\",\"caring\",\"carpenter\",\"carriage\",\"carry\",\"cars\",\"cart\",\"carve\",\"cast\",\"cat\",\"cats\",\"cattle\",\"cause\",\"cautious\",\"cave\",\"ceaseless\",\"celery\",\"cellar\",\"cemetery\",\"cent\",\"certain\",\"chalk\",\"challenge\",\"chance\",\"change\",\"changeable\",\"channel\",\"charge\",\"charming\",\"chase\",\"cheap\",\"cheat\",\"check\",\"cheer\",\"cheerful\",\"cheese\",\"chemical\",\"cherries\",\"cherry\",\"chess\",\"chew\",\"chicken\",\"chickens\",\"chief\",\"childlike\",\"children\",\"chilly\",\"chin\",\"chivalrous\",\"choke\",\"chop\",\"chubby\",\"chunky\",\"church\",\"circle\",\"claim\",\"clam\",\"clammy\",\"clap\",\"class\",\"classy\",\"clean\",\"clear\",\"clever\",\"clip\",\"cloistered\",\"close\",\"closed\",\"cloth\",\"cloudy\",\"clover\",\"club\",\"clumsy\",\"cluttered\",\"coach\",\"coal\",\"coast\",\"coat\",\"cobweb\",\"coherent\",\"coil\",\"cold\",\"collar\",\"collect\",\"color\",\"colorful\",\"colossal\",\"colour\",\"comb\",\"combative\",\"comfortable\",\"command\",\"committee\",\"common\",\"communicate\",\"company\",\"compare\",\"comparison\",\"compete\",\"competition\",\"complain\",\"complete\",\"complex\",\"concentrate\",\"concern\",\"concerned\",\"condemned\",\"condition\",\"confess\",\"confuse\",\"confused\",\"connect\",\"connection\",\"conscious\",\"consider\",\"consist\",\"contain\",\"continue\",\"control\",\"cooing\",\"cook\",\"cool\",\"cooperative\",\"coordinated\",\"copper\",\"copy\",\"corn\",\"correct\",\"cough\",\"count\",\"country\",\"courageous\",\"cover\",\"cow\",\"cowardly\",\"cows\",\"crabby\",\"crack\",\"cracker\",\"crash\",\"crate\",\"craven\",\"crawl\",\"crayon\",\"crazy\",\"cream\",\"creator\",\"creature\",\"credit\",\"creepy\",\"crib\",\"crime\",\"crook\",\"crooked\",\"cross\",\"crow\",\"crowd\",\"crowded\",\"crown\",\"cruel\",\"crush\",\"cry\",\"cub\",\"cuddly\",\"cultured\",\"cumbersome\",\"cup\",\"cure\",\"curious\",\"curl\",\"curly\",\"current\",\"curtain\",\"curve\",\"curved\",\"curvy\",\"cushion\",\"cut\",\"cute\",\"cycle\",\"cynical\",\"dad\",\"daffy\",\"daily\",\"dam\",\"damage\",\"damaged\",\"damaging\",\"damp\",\"dance\",\"dangerous\",\"dapper\",\"dare\",\"dark\",\"dashing\",\"daughter\",\"day\",\"dazzling\",\"dead\",\"deadpan\",\"deafening\",\"dear\",\"death\",\"debonair\",\"debt\",\"decay\",\"deceive\",\"decide\",\"decision\",\"decisive\",\"decorate\",\"decorous\",\"deep\",\"deeply\",\"deer\",\"defeated\",\"defective\",\"defiant\",\"degree\",\"delay\",\"delicate\",\"delicious\",\"delight\",\"delightful\",\"delirious\",\"deliver\",\"demonic\",\"depend\",\"dependent\",\"depressed\",\"deranged\",\"describe\",\"descriptive\",\"desert\",\"deserted\",\"deserve\",\"design\",\"desire\",\"desk\",\"destroy\",\"destruction\",\"detail\",\"detailed\",\"detect\",\"determined\",\"develop\",\"development\",\"devilish\",\"didactic\",\"different\",\"difficult\",\"digestion\",\"diligent\",\"dime\",\"dinner\",\"dinosaurs\",\"direction\",\"direful\",\"dirt\",\"dirty\",\"disagree\",\"disagreeable\",\"disappear\",\"disapprove\",\"disarm\",\"disastrous\",\"discover\",\"discovery\",\"discreet\",\"discussion\",\"disgusted\",\"disgusting\",\"disillusioned\",\"dislike\",\"dispensable\",\"distance\",\"distinct\",\"distribution\",\"disturbed\",\"divergent\",\"divide\",\"division\",\"dizzy\",\"dock\",\"doctor\",\"dog\",\"dogs\",\"doll\",\"dolls\",\"domineering\",\"donkey\",\"door\",\"double\",\"doubt\",\"doubtful\",\"downtown\",\"drab\",\"draconian\",\"drag\",\"drain\",\"dramatic\",\"drawer\",\"dream\",\"dreary\",\"dress\",\"drink\",\"drip\",\"driving\",\"drop\",\"drown\",\"drum\",\"drunk\",\"dry\",\"duck\",\"ducks\",\"dull\",\"dust\",\"dusty\",\"dynamic\",\"dysfunctional\",\"eager\",\"ear\",\"early\",\"earn\",\"earsplitting\",\"earth\",\"earthquake\",\"earthy\",\"easy\",\"eatable\",\"economic\",\"edge\",\"educate\",\"educated\",\"education\",\"effect\",\"efficacious\",\"efficient\",\"egg\",\"eggnog\",\"eggs\",\"eight\",\"elastic\",\"elated\",\"elbow\",\"elderly\",\"electric\",\"elegant\",\"elfin\",\"elite\",\"embarrass\",\"embarrassed\",\"eminent\",\"employ\",\"empty\",\"enchanted\",\"enchanting\"\n",
        "\n"
      ],
      "metadata": {
        "id": "9fYbHDL1nhX0"
      },
      "execution_count": null,
      "outputs": []
    },
    {
      "cell_type": "code",
      "source": [
        "#Hangman.py\n",
        "import random\n",
        "from hangman_visual import lives_visual_dict\n",
        "import string\n",
        "#This import randomizes the word we get from the wordlist\n",
        "\n",
        "from words import wordlist\n",
        "#we're importing the wordlist from the words.py file\n",
        "\n",
        "#Module initialization\n",
        "def get_valid_word(words):\n",
        "    word = random.choice(words)  # randomly chooses something from the list\n",
        "    while '-' in word or ' ' in word:\n",
        "        word = random.choice(words)\n",
        "\n",
        "    return word.upper()\n",
        "\n",
        "\n",
        "def hangman():\n",
        "    word = get_valid_word(words)\n",
        "    word_letters = set(word)  # letters in the word\n",
        "    alphabet = set(string.ascii_uppercase)\n",
        "    used_letters = set()  # what the user has guessed\n",
        "\n",
        "    lives = 7\n",
        "\n",
        "    # getting user input\n",
        "    while len(word_letters) > 0 and lives > 0:\n",
        "        # letters used\n",
        "        # ' '.join(['a', 'b', 'cd']) --> 'a b cd'\n",
        "        print('You have', lives, 'lives left and you have used these letters: ', ' '.join(used_letters))\n",
        "\n",
        "        # what current word is (ie W - R D)\n",
        "        word_list = [letter if letter in used_letters else '-' for letter in word]\n",
        "        print(lives_visual_dict[lives])\n",
        "        print('Current word: ', ' '.join(word_list))\n",
        "\n",
        "        user_letter = input('Guess a letter: ').upper()\n",
        "        if user_letter in alphabet - used_letters:\n",
        "            used_letters.add(user_letter)\n",
        "            if user_letter in word_letters:\n",
        "                word_letters.remove(user_letter)\n",
        "                print('')\n",
        "\n",
        "            else:\n",
        "                lives = lives - 1  # takes away a life if wrong\n",
        "                print('\\nYour letter,', user_letter, 'is not in the word.')\n",
        "\n",
        "        elif user_letter in used_letters:\n",
        "            print('\\nYou have already used that letter. Guess another letter.')\n",
        "\n",
        "        else:\n",
        "            print('\\nThat is not a valid letter.')\n",
        "\n",
        "    # gets here when len(word_letters) == 0 OR when lives == 0\n",
        "    if lives == 0:\n",
        "        print(lives_visual_dict[lives])\n",
        "        print('You died, sorry. The word was', word)\n",
        "    else:\n",
        "        print('YAY! You guessed the word', word, '!!')\n",
        "\n",
        "\n",
        "if __name__ == '__main__':\n",
        "    hangman()"
      ],
      "metadata": {
        "id": "lZ88zoFGo6W5"
      },
      "execution_count": null,
      "outputs": []
    }
  ]
}